{
 "cells": [
  {
   "cell_type": "markdown",
   "id": "173cda0d",
   "metadata": {},
   "source": [
    "# Phase 1.1: Exploratory Data Analysis (EDA)\n",
    "\n",
    "**Objective:** To understand the structure, content, and quality of the SROIE 2019 dataset. This analysis is the critical first step to inform our data preprocessing and model training strategy.\n",
    "\n",
    "**Dataset:** [SROIE Dataset v2](https://www.kaggle.com/datasets/urbikn/sroie-datasetv2)"
   ]
  },
  {
   "cell_type": "code",
   "execution_count": 11,
   "id": "ab18cf20",
   "metadata": {},
   "outputs": [],
   "source": [
    "\n",
    "import os\n",
    "import json\n",
    "import pandas as pd\n",
    "\n",
    "import matplotlib.pyplot as plt\n",
    "import seaborn as sns\n",
    "\n",
    "BASE_PATH = 'SROIE2019' \n",
    "\n",
    "\n",
    "sns.set_style('whitegrid')\n",
    "plt.rcParams['figure.figsize'] = (12, 7) "
   ]
  },
  {
   "cell_type": "markdown",
   "id": "0de48304",
   "metadata": {},
   "source": [
    "### 1. Intial File and Directory Inspection"
   ]
  },
  {
   "cell_type": "markdown",
   "id": "d22452d6",
   "metadata": {},
   "source": []
  },
  {
   "cell_type": "code",
   "execution_count": 4,
   "id": "e6337fe6",
   "metadata": {},
   "outputs": [
    {
     "name": "stdout",
     "output_type": "stream",
     "text": [
      " Discovered File Counts by Directory -\n",
      "- Folder: 'layoutlm-base-uncased'\n",
      "  - Images (.jpg): 0\n",
      "  - Annotations (.txt): 1\n",
      "- Folder: 'test\\box'\n",
      "  - Images (.jpg): 0\n",
      "  - Annotations (.txt): 347\n",
      "- Folder: 'test\\entities'\n",
      "  - Images (.jpg): 0\n",
      "  - Annotations (.txt): 347\n",
      "- Folder: 'test\\img'\n",
      "  - Images (.jpg): 347\n",
      "  - Annotations (.txt): 0\n",
      "- Folder: 'train\\box'\n",
      "  - Images (.jpg): 0\n",
      "  - Annotations (.txt): 626\n",
      "- Folder: 'train\\entities'\n",
      "  - Images (.jpg): 0\n",
      "  - Annotations (.txt): 626\n",
      "- Folder: 'train\\img'\n",
      "  - Images (.jpg): 626\n",
      "  - Annotations (.txt): 0\n",
      "\n",
      "--- Totals ---\n",
      "Total Images (.jpg): 973\n",
      "Total Annotations (.txt): 1947\n"
     ]
    }
   ],
   "source": [
    "file_counts={}\n",
    "\n",
    "for dirpath, dirnames, filenames in os.walk(BASE_PATH):\n",
    "    \n",
    "    relative_path = os.path.relpath(dirpath, BASE_PATH)\n",
    "    \n",
    "    \n",
    "    jpg_count = len([f for f in filenames if f.lower().endswith('.jpg')])\n",
    "    txt_count = len([f for f in filenames if f.lower().endswith('.txt')])\n",
    "    \n",
    "    \n",
    "    if jpg_count > 0 or txt_count > 0:\n",
    "        file_counts[relative_path] = {'images (.jpg)': jpg_count, 'annotations (.txt)': txt_count}\n",
    "\n",
    "\n",
    "print(\" Discovered File Counts by Directory -\")\n",
    "for path, counts in file_counts.items():\n",
    "    print(f\"- Folder: '{path}'\")\n",
    "    print(f\"  - Images (.jpg): {counts['images (.jpg)']}\")\n",
    "    print(f\"  - Annotations (.txt): {counts['annotations (.txt)']}\")\n",
    "\n",
    "\n",
    "\n",
    "total_images = sum(d.get('images (.jpg)', 0) for d in file_counts.values())\n",
    "total_annotations = sum(d.get('annotations (.txt)', 0) for d in file_counts.values())\n",
    "print(\"\\n--- Totals ---\")\n",
    "print(f\"Total Images (.jpg): {total_images}\")\n",
    "print(f\"Total Annotations (.txt): {total_annotations}\")"
   ]
  },
  {
   "cell_type": "markdown",
   "id": "9042b99b",
   "metadata": {},
   "source": [
    "#### Findings:\n",
    "* The dataset is organized into `train` and `test` subdirectories.\n",
    "* The training data (which we will use for our model) contains `[number]` images and `[number]` annotation files.\n",
    "* This confirms we have the necessary data to proceed. The annotations appear to be in `.txt` format(and not in `.json`)."
   ]
  },
  {
   "cell_type": "markdown",
   "id": "029556a3",
   "metadata": {},
   "source": [
    "### 2. Annotation File Structure\n",
    "\n",
    "Before we can process all annotations, we must understand the structure of a single file. We'll load one `.txt` file from the training set and examine its contents."
   ]
  },
  {
   "cell_type": "code",
   "execution_count": 6,
   "id": "da26d749",
   "metadata": {},
   "outputs": [
    {
     "name": "stdout",
     "output_type": "stream",
     "text": [
      "- Inspecting Annotation File: X00016469612.txt \n",
      "\n",
      "File Content:\n",
      "{\n",
      "    \"company\": \"BOOK TA .K (TAMAN DAYA) SDN BHD\",\n",
      "    \"date\": \"25/12/2018\",\n",
      "    \"address\": \"NO.53 55,57 & 59, JALAN SAGU 18, TAMAN DAYA, 81100 JOHOR BAHRU, JOHOR.\",\n",
      "    \"total\": \"9.00\"\n",
      "}\n"
     ]
    }
   ],
   "source": [
    "annotations_dir = os.path.join(BASE_PATH, 'train', 'entities')\n",
    "try:\n",
    "    first_annotation_file = next(f for f in os.listdir(annotations_dir) if f.lower().endswith('.txt'))\n",
    "    annotation_path = os.path.join(annotations_dir, first_annotation_file)\n",
    "\n",
    "    print(f\"- Inspecting Annotation File: {first_annotation_file} \\n\")\n",
    "\n",
    "    with open(annotation_path, 'r', encoding='utf-8') as f:\n",
    "        content = f.read()\n",
    "    \n",
    "    print(\"File Content:\")\n",
    "    print(content)\n",
    "\n",
    "except (StopIteration, FileNotFoundError):\n",
    "    print(f\"Error: Could not find any .txt files in the directory '{annotations_dir}'.\")\n",
    "    print(\"Please check the path\")"
   ]
  },
  {
   "cell_type": "markdown",
   "id": "d3b51aa6",
   "metadata": {},
   "source": [
    "### 3. Parsing and Aggregating All Training Annotations\n",
    "\n",
    "Now for the core data preparation step of our EDA. We will programmatically loop through every annotation file in the `train/entities` directory. For each file, we will:\n",
    "1.  Open and parse the JSON content.\n",
    "2.  Iterate through the key-value pairs (label and text).\n",
    "3.  Append each entity as a new record to a master list.\n",
    "4.  Convert this list into a Pandas DataFrame for structured analysis."
   ]
  },
  {
   "cell_type": "code",
   "execution_count": 7,
   "id": "6c337436",
   "metadata": {},
   "outputs": [
    {
     "name": "stdout",
     "output_type": "stream",
     "text": [
      "Shape of Final Data Frame:  2503 rows and 3 columns.\n"
     ]
    }
   ],
   "source": [
    "\n",
    "ANNOTATIONS_DIR = os.path.join(BASE_PATH, 'train', 'entities')\n",
    "\n",
    "\n",
    "if not os.path.isdir(ANNOTATIONS_DIR):\n",
    "    print(f\"ERROR: The directory '{ANNOTATIONS_DIR}' does not exist. Please check your paths.\")\n",
    "else:\n",
    "    parsed_data = []\n",
    "    \n",
    "    for filename in os.listdir(ANNOTATIONS_DIR):\n",
    "        if filename.lower().endswith('.txt'):\n",
    "            file_path = os.path.join(ANNOTATIONS_DIR, filename)\n",
    "            \n",
    "            try:\n",
    "                with open(file_path, 'r', encoding='utf-8') as f:\n",
    "                    \n",
    "                    data = json.load(f)\n",
    "                    \n",
    "                    \n",
    "                    for label, text in data.items():\n",
    "                        \n",
    "                        parsed_data.append({\n",
    "                            'filename': filename,\n",
    "                            'label': label.upper(), # Convention: Use uppercase for labels\n",
    "                            'text': text\n",
    "                        })\n",
    "            except json.JSONDecodeError:\n",
    "                print(f\"Warning: Could not parse {filename}. It may be empty or corrupted. Skipping.\")\n",
    "            except Exception as e:\n",
    "                print(f\"An error occurred with file {filename}: {e}\")\n",
    "\n",
    "\n",
    "    df = pd.DataFrame(parsed_data)\n",
    "\n",
    "    print(f\"Shape of Final Data Frame:  {df.shape[0]} rows and {df.shape[1]} columns.\")"
   ]
  },
  {
   "cell_type": "markdown",
   "id": "1b31f80c",
   "metadata": {},
   "source": [
    "### 4. Initial DataFrame Inspection\n",
    "\n",
    "With our data aggregated, let's perform a quick health check. We'll use `.info()` to check for data types and null values, and `.head()` to inspect a few sample rows. This ensures our parsing logic was correct."
   ]
  },
  {
   "cell_type": "code",
   "execution_count": 16,
   "id": "45f4924c",
   "metadata": {},
   "outputs": [
    {
     "name": "stdout",
     "output_type": "stream",
     "text": [
      "- DataFrame Info\n",
      "<class 'pandas.core.frame.DataFrame'>\n",
      "RangeIndex: 2503 entries, 0 to 2502\n",
      "Data columns (total 3 columns):\n",
      " #   Column    Non-Null Count  Dtype \n",
      "---  ------    --------------  ----- \n",
      " 0   filename  2503 non-null   object\n",
      " 1   label     2503 non-null   object\n",
      " 2   text      2503 non-null   object\n",
      "dtypes: object(3)\n",
      "memory usage: 58.8+ KB\n",
      "\n",
      " DataFrame Head ---\n"
     ]
    },
    {
     "data": {
      "text/html": [
       "<div>\n",
       "<style scoped>\n",
       "    .dataframe tbody tr th:only-of-type {\n",
       "        vertical-align: middle;\n",
       "    }\n",
       "\n",
       "    .dataframe tbody tr th {\n",
       "        vertical-align: top;\n",
       "    }\n",
       "\n",
       "    .dataframe thead th {\n",
       "        text-align: right;\n",
       "    }\n",
       "</style>\n",
       "<table border=\"1\" class=\"dataframe\">\n",
       "  <thead>\n",
       "    <tr style=\"text-align: right;\">\n",
       "      <th></th>\n",
       "      <th>filename</th>\n",
       "      <th>label</th>\n",
       "      <th>text</th>\n",
       "    </tr>\n",
       "  </thead>\n",
       "  <tbody>\n",
       "    <tr>\n",
       "      <th>0</th>\n",
       "      <td>X00016469612.txt</td>\n",
       "      <td>COMPANY</td>\n",
       "      <td>BOOK TA .K (TAMAN DAYA) SDN BHD</td>\n",
       "    </tr>\n",
       "    <tr>\n",
       "      <th>1</th>\n",
       "      <td>X00016469612.txt</td>\n",
       "      <td>DATE</td>\n",
       "      <td>25/12/2018</td>\n",
       "    </tr>\n",
       "    <tr>\n",
       "      <th>2</th>\n",
       "      <td>X00016469612.txt</td>\n",
       "      <td>ADDRESS</td>\n",
       "      <td>NO.53 55,57 &amp; 59, JALAN SAGU 18, TAMAN DAYA, 8...</td>\n",
       "    </tr>\n",
       "    <tr>\n",
       "      <th>3</th>\n",
       "      <td>X00016469612.txt</td>\n",
       "      <td>TOTAL</td>\n",
       "      <td>9.00</td>\n",
       "    </tr>\n",
       "    <tr>\n",
       "      <th>4</th>\n",
       "      <td>X00016469619.txt</td>\n",
       "      <td>COMPANY</td>\n",
       "      <td>INDAH GIFT &amp; HOME DECO</td>\n",
       "    </tr>\n",
       "  </tbody>\n",
       "</table>\n",
       "</div>"
      ],
      "text/plain": [
       "           filename    label  \\\n",
       "0  X00016469612.txt  COMPANY   \n",
       "1  X00016469612.txt     DATE   \n",
       "2  X00016469612.txt  ADDRESS   \n",
       "3  X00016469612.txt    TOTAL   \n",
       "4  X00016469619.txt  COMPANY   \n",
       "\n",
       "                                                text  \n",
       "0                    BOOK TA .K (TAMAN DAYA) SDN BHD  \n",
       "1                                         25/12/2018  \n",
       "2  NO.53 55,57 & 59, JALAN SAGU 18, TAMAN DAYA, 8...  \n",
       "3                                               9.00  \n",
       "4                             INDAH GIFT & HOME DECO  "
      ]
     },
     "execution_count": 16,
     "metadata": {},
     "output_type": "execute_result"
    }
   ],
   "source": [
    "\n",
    "df['filename'] = df['filename'].astype(str)\n",
    "\n",
    "\n",
    "print(\"- DataFrame Info\")\n",
    "df.info()\n",
    "\n",
    "print(\"\\n DataFrame Head ---\")\n",
    "\n",
    "df.head()"
   ]
  },
  {
   "cell_type": "markdown",
   "id": "51ced47b",
   "metadata": {},
   "source": [
    "### Entity Label and Analysis\n",
    "\n",
    "Now we are going to check the label distribution in the dataset, to see if well any label is more dominant then others, leading to an imabalanced dataset because an Imbalanced Dataset can affect the model's performance on rare categories."
   ]
  },
  {
   "cell_type": "code",
   "execution_count": 12,
   "id": "71ddf5be",
   "metadata": {},
   "outputs": [
    {
     "name": "stdout",
     "output_type": "stream",
     "text": [
      "Entity Label Counts:\n",
      "label\n",
      "COMPANY    626\n",
      "DATE       626\n",
      "TOTAL      626\n",
      "ADDRESS    625\n",
      "Name: count, dtype: int64\n"
     ]
    },
    {
     "data": {
      "image/png": "[encoded data removed]",
      "text/plain": [
       "<Figure size 1200x700 with 1 Axes>"
      ]
     },
     "metadata": {},
     "output_type": "display_data"
    }
   ],
   "source": [
    "print(\"Entity Label Counts:\")\n",
    "label_counts = df['label'].value_counts()\n",
    "print(label_counts)\n",
    "\n",
    "\n",
    "\n",
    "sns.countplot(data=df, x='label', order=label_counts.index)\n",
    "\n",
    "plt.title('Entity Label Distribution')\n",
    "plt.xlabel('Entity Label',fontsize=12)\n",
    "plt.ylabel('Frequency (Count)',fontsize=12)\n",
    "plt.xticks(rotation=0)\n",
    "\n",
    "plt.show()"
   ]
  },
  {
   "cell_type": "markdown",
   "id": "0459a182",
   "metadata": {},
   "source": [
    "### EDA Summary & Key Findings\n",
    "\n",
    "Our Exploratory Data Analysis of the SROIE dataset is now complete. The key takeaways are:\n",
    "\n",
    "1.  **Data Structure:** The dataset is well-organized into `train` and `test` sets, with a clear one-to-one mapping between images (`.jpg`) and entity annotations (`.txt` files containing JSON).\n",
    "\n",
    "2.  **Data Quality:** We have successfully parsed **2,503** labeled entities from **626** training documents. The data is exceptionally clean, with no missing or null values requiring imputation.\n",
    "\n",
    "3.  **Label Distribution:**\n",
    "    *   The dataset contains four primary entity labels: `COMPANY`, `DATE`, `ADDRESS`, and `TOTAL`.\n",
    "    *   The distribution of labels is **extraordinarily well-balanced**. `COMPANY`, `DATE`, and `TOTAL` each appear 626 times, while `ADDRESS` appears 625 times. The near-perfect uniformity is the ideal condition for training a robust NER model.\n",
    "    *   **Implication:** Because each category has a virtually identical number of examples, we can be confident that the model will learn to recognize each entity type with equal effectiveness. There is no risk of the model being biased towards a more frequent class, and we do not need to implement complex mitigation strategies like class weighting.\n",
    "\n",
    "**Conclusion:** The dataset is not just suitable, but ideal for training our  model. We have successfully completed our EDA and can proceed with high confidence to the next phase."
   ]
  },
  {
   "cell_type": "markdown",
   "id": "a3b67ba5",
   "metadata": {},
   "source": [
    "# Phase 1.2: Data Preparation for spaCy\n",
    "\n",
    "**Objective:** To convert our aggregated DataFrame into the specific JSON format required for training a spaCy NER model.\n",
    "\n",
    "This involves two key steps:\n",
    "1.  Extracting the full raw text from each receipt image using OCR.\n",
    "2.  Locating our labeled entities within the full text to get their start and end character indices."
   ]
  },
  {
   "cell_type": "code",
   "execution_count": 18,
   "id": "5cf7ccce",
   "metadata": {},
   "outputs": [
    {
     "name": "stdout",
     "output_type": "stream",
     "text": [
      "Paths and Files setup complete.\n"
     ]
    }
   ],
   "source": [
    "import cv2\n",
    "import pytesseract as pytesseract\n",
    "from PIL import Image\n",
    "from tqdm.notebook import tqdm\n",
    "import re \n",
    "pytesseract.pytesseract.tesseract_cmd = r'C:\\Program Files\\Tesseract-OCR\\tesseract.exe'\n",
    "\n",
    "\n",
    "Image_dir=os.path.join(BASE_PATH, 'train', 'img')\n",
    "print(\"Paths and Files setup complete.\")"
   ]
  },
  {
   "cell_type": "markdown",
   "id": "175b88ba",
   "metadata": {},
   "source": [
    "### 1. Grouping Data and Preparing for Processing\n",
    "To process the data document by document, we first need to group our DataFrame by `filename`. This gives us an iterable object where each item is a document and its corresponding entities. This is a more organized and efficient way to approach the task than looping through the main DataFrame directly."
   ]
  },
  {
   "cell_type": "code",
   "execution_count": 19,
   "id": "d728ea90",
   "metadata": {},
   "outputs": [
    {
     "name": "stdout",
     "output_type": "stream",
     "text": [
      "Grouped DataFrame by 'filename' with 626 documents.\n",
      "First Group Name: X00016469612.txt\n",
      "First Group DataFrame:\n",
      "           filename    label  \\\n",
      "0  X00016469612.txt  COMPANY   \n",
      "1  X00016469612.txt     DATE   \n",
      "2  X00016469612.txt  ADDRESS   \n",
      "3  X00016469612.txt    TOTAL   \n",
      "\n",
      "                                                text  \n",
      "0                    BOOK TA .K (TAMAN DAYA) SDN BHD  \n",
      "1                                         25/12/2018  \n",
      "2  NO.53 55,57 & 59, JALAN SAGU 18, TAMAN DAYA, 8...  \n",
      "3                                               9.00  \n"
     ]
    }
   ],
   "source": [
    "grouped_df= df.groupby('filename')\n",
    "print(f\"Grouped DataFrame by 'filename' with {len(grouped_df)} documents.\")\n",
    "\n",
    "first_group_name,first_group_df=next(iter(grouped_df))\n",
    "\n",
    "print(f\"First Group Name: {first_group_name}\")\n",
    "print(f\"First Group DataFrame:\\n{first_group_df}\")"
   ]
  },
  {
   "cell_type": "markdown",
   "id": "b7c7a4f8",
   "metadata": {},
   "source": [
    "### 2. Main Processing Loop: OCR and Entity Matching\n",
    "\n",
    "This is the core of our data preparation pipeline. Here, we will iterate through each of the 626 documents we grouped earlier. For each document, we will:\n",
    "\n",
    "1.  Construct the full path to the corresponding image file.\n",
    "2.  Use `Pytesseract` to perform OCR and extract the full, unstructured text.\n",
    "3.  Iterate through each ground-truth entity associated with that document (from our DataFrame).\n",
    "4.  Search for the entity's text within the full OCR'd text to find its start and end character indices. We use regular expressions (`re.search`) for a more robust search that can handle minor OCR inconsistencies.\n",
    "5.  Store the results in the specific format required by spaCy: `(text, {\"entities\": [(start, end, LABEL), ...]})`.\n",
    "\n",
    "Any entities that are not found in the OCR output will be flagged with a warning and skipped. This is expected behavior, as OCR is not a perfect process."
   ]
  },
  {
   "cell_type": "markdown",
   "id": "4eb9db79",
   "metadata": {},
   "source": [
    "### 2. Image Preprocessing for Improved OCR\n",
    "\n",
    "**Problem Diagnosis:** Our initial run of the OCR script revealed a high number of \"missed entities\" (over 50%). This is a strong indicator that the raw OCR quality is low, likely due to noise, poor contrast, or varied lighting in the original images.\n",
    "\n",
    "**Solution:** We will implement an image preprocessing pipeline using OpenCV. Before sending an image to Pytesseract, we will apply a series of filters to \"clean\" it, making the text more distinct and readable for the OCR engine. Our pipeline will consist of:\n",
    "\n",
    "1.  **Grayscaling:** Converts the image to black and white, removing color noise.\n",
    "2.  **Thresholding (Binarization):** Forces every pixel to be either pure black or pure white. This is highly effective for creating sharp character edges. We will use Otsu's thresholding method, which automatically determines the best threshold value.\n",
    "3.  **Noise Removal:** Apply a gentle blur to remove random speckles or \"salt-and-pepper\" noise from the image.\n",
    "\n",
    "We will first define and test this function on a sample image to visually confirm its effectiveness."
   ]
  },
  {
   "cell_type": "code",
   "execution_count": 28,
   "id": "9b754eff",
   "metadata": {},
   "outputs": [],
   "source": [
    "def preprocess_image(image_path):\n",
    "    \"\"\"\n",
    "    Loads an image, applies preprocessing steps, and returns the processed image.\n",
    "    \n",
    "    :param image_path: Path to the input image file.\n",
    "    :return: A preprocessed image object (ready for OCR).\n",
    "    \"\"\"\n",
    "    try:\n",
    "        \n",
    "        img = cv2.imread(image_path)\n",
    "        \n",
    "        \n",
    "        gray = cv2.cvtColor(img, cv2.COLOR_BGR2GRAY)\n",
    "        \n",
    "        \n",
    "        blur = cv2.medianBlur(gray, 3)\n",
    "        \n",
    "        \n",
    "        thresh = cv2.adaptiveThreshold(blur, 255, cv2.ADAPTIVE_THRESH_GAUSSIAN_C, \\\n",
    "                                       cv2.THRESH_BINARY, 11, 2)\n",
    "\n",
    "        return thresh\n",
    "    \n",
    "    except Exception as e:\n",
    "        print(f\"Error preprocessing image {image_path}: {e}\")\n",
    "        return None\n",
    "\n",
    "\n"
   ]
  },
  {
   "cell_type": "code",
   "execution_count": 29,
   "id": "656cbf88",
   "metadata": {},
   "outputs": [
    {
     "name": "stdout",
     "output_type": "stream",
     "text": [
      "--- 1. Ground Truth Labels for X00016469612.txt ---\n",
      "[COMPANY] - 'BOOK TA .K (TAMAN DAYA) SDN BHD'\n",
      "[DATE] - '25/12/2018'\n",
      "[ADDRESS] - 'NO.53 55,57 & 59, JALAN SAGU 18, TAMAN DAYA, 81100 JOHOR BAHRU, JOHOR.'\n",
      "[TOTAL] - '9.00'\n",
      "\n",
      "--- 2. OCR Text (Original Image) ---\n",
      "tan woon yann\n",
      "\n",
      "BOOK TA -K (TAMAN DAYA) SDN BHD\n",
      "PRON 7-W\n",
      "NO.5? $5,57 & 59, JALAN SAGU 18,\n",
      "TAMAN DAYA\n",
      "81100 JOHOR BAHRU,\n",
      "JOHOR.\n",
      "\n",
      "WAM MITA At\n",
      "\n",
      "Document Ho : TDO1167104\n",
      "\n",
      "Date 25/12/2018 8:13:39 PM\n",
      "Cashier MANIS.\n",
      "Member\n",
      "CASH BILL\n",
      "CODE/DESC PRICE Dise AMOUIHT\n",
      "Quy RM RM\n",
      "0556929040118 AF MODELLING CLAY KIDDY FISH\n",
      "1PC + 9.00) 0,00 9.00\n",
      "Total : 9,00\n",
      "Rour ding Adjustment 0.00\n",
      "Round. :d Total (RM): 9.00\n",
      "Cash oy 40.00.\n",
      "CHANGE 00\n",
      "\n",
      "GOODS SOLD ARE NOT RETURNAP\n",
      "EXCHANGEABLE\n",
      "\n",
      "THANK YOU\n",
      "PLEASE COME AGAIN t\n",
      "\n",
      "\n",
      "--- 3. OCR Text (Preprocessed Image) ---\n",
      "tan woon yann oy\n",
      "\n",
      "BOOK TA .K (TAMAN DAYA) SON SHO,\n",
      "FOOHTW\n",
      "110,53'$5;57 & 59, JALAN SAGU\"18;\n",
      ". TAMAH DAYA,\n",
      "81100 JOIOR BAHRU,\n",
      "\n",
      "PIMA\n",
      "\n",
      "Cecument tos, TDO1167104\n",
      "1 Dae: “25/12/2018 8:13:39 PH\n",
      "> MARIS\n",
      "\n",
      "aS\n",
      "\n",
      "CASH BILL\n",
      "\n",
      "Rétind:-d Total (RM); 9.00.\n",
      "\n",
      "Cash\n",
      "‘CHANGE\n",
      "\n",
      "GOODS SCLD'ARE NOT RETURWAR\n",
      "EXCHANGEABLE\n",
      "\n",
      "2. EER\n",
      "\n",
      "Sa Yds, Sg\n",
      "\n",
      "THANK YOU\n",
      "PLEASE COVE AGAIN I\n",
      "\n",
      "\n"
     ]
    }
   ],
   "source": [
    "# --- Deep Dive Diagnostic Cell ---\n",
    "\n",
    "# Pick a file to investigate\n",
    "# You can change this to any filename you want to debug\n",
    "debug_filename = df['filename'].iloc[0] \n",
    "debug_image_path = os.path.join(Image_dir, debug_filename.replace('.txt', '.jpg'))\n",
    "\n",
    "# --- Get the three versions of the text ---\n",
    "\n",
    "# 1. Ground truth from DataFrame\n",
    "print(f\"--- 1. Ground Truth Labels for {debug_filename} ---\")\n",
    "ground_truth_group = df[df['filename'] == debug_filename]\n",
    "for _, row in ground_truth_group.iterrows():\n",
    "    print(f\"[{row['label']}] - '{row['text']}'\")\n",
    "\n",
    "# 2. Original OCR Text\n",
    "print(f\"\\n--- 2. OCR Text (Original Image) ---\")\n",
    "original_img = Image.open(debug_image_path)\n",
    "original_text = pytesseract.image_to_string(original_img)\n",
    "print(original_text)\n",
    "\n",
    "# 3. Preprocessed OCR Text\n",
    "print(f\"\\n--- 3. OCR Text (Preprocessed Image) ---\")\n",
    "preprocessed_img = preprocess_image(debug_image_path)\n",
    "preprocessed_text = pytesseract.image_to_string(preprocessed_img)\n",
    "print(preprocessed_text)"
   ]
  },
  {
   "cell_type": "code",
   "execution_count": null,
   "id": "245528ed",
   "metadata": {},
   "outputs": [
    {
     "name": "stdout",
     "output_type": "stream",
     "text": [
      "--- Starting OCR and FUZZY Entity Matching Process ---\n"
     ]
    },
    {
     "data": {
      "application/vnd.jupyter.widget-view+json": {
       "model_id": "136aacfbda954e7ab2bb9d130e11c67a",
       "version_major": 2,
       "version_minor": 0
      },
      "text/plain": [
       "  0%|          | 0/626 [00:00<?, ?it/s]"
      ]
     },
     "metadata": {},
     "output_type": "display_data"
    },
    {
     "name": "stdout",
     "output_type": "stream",
     "text": [
      "An error occurred while processing X51005433522.txt: subsequence must not be empty\n",
      "\n",
      "--- Process Complete ---\n",
      "Successfully created 600 training examples.\n",
      "Total entities FOUND (with fuzzy search): 1864\n",
      "Total entities MISSED (with fuzzy search): 638\n",
      "\n",
      "FUZZY MATCHED training data successfully saved to 'spacy_train_data_fuzzy.json'\n"
     ]
    }
   ],
   "source": [
    "\n",
    "from fuzzysearch import find_near_matches\n",
    "\n",
    "\n",
    "TRAIN_DATA = []\n",
    "missed_entities_fuzzy = 0\n",
    "found_entities_fuzzy = 0\n",
    "\n",
    "print(\"--- Starting OCR and FUZZY Entity Matching Process ---\")\n",
    "\n",
    "\n",
    "for filename, group in tqdm(grouped_df, total=len(grouped_df)):\n",
    "    \n",
    "    image_path = os.path.join(Image_dir, str(filename).replace('.txt', '.jpg'))\n",
    "    if not os.path.exists(image_path):\n",
    "        continue\n",
    "        \n",
    "    try:\n",
    "        \n",
    "        full_text = pytesseract.image_to_string(Image.open(image_path))\n",
    "        \n",
    "        annotations = {'entities': []}\n",
    "        \n",
    "        for _, row in group.iterrows():\n",
    "            entity_label = row['label']\n",
    "            entity_text = row['text']\n",
    "            \n",
    "            \n",
    "            max_errors = int(len(entity_text) * 0.2) \n",
    "\n",
    "            # find_near_matches returns a list of all possible matches\n",
    "            matches = find_near_matches(entity_text, full_text, max_l_dist=max_errors)\n",
    "            \n",
    "            if matches:\n",
    "                # We'll take the first match found as the most likely one\n",
    "                first_match = matches[0]\n",
    "                start = first_match.start\n",
    "                end = first_match.end\n",
    "                \n",
    "                annotations['entities'].append((start, end, entity_label))\n",
    "                found_entities_fuzzy += 1\n",
    "            else:\n",
    "                missed_entities_fuzzy += 1\n",
    "            \n",
    "            if not entity_text or not entity_text.strip():  \n",
    "                missed_entities_fuzzy += 1\n",
    "                continue\n",
    "        \n",
    "        if annotations['entities']:\n",
    "            TRAIN_DATA.append((full_text, annotations))\n",
    "            \n",
    "    except Exception as e:\n",
    "        print(f\"An error occurred while processing {filename}: {e}\")\n",
    "\n",
    "print(\"\\n--- Process Complete ---\")\n",
    "print(f\"Successfully created {len(TRAIN_DATA)} training examples.\")\n",
    "print(f\"Total entities FOUND (with fuzzy search): {found_entities_fuzzy}\")\n",
    "print(f\"Total entities MISSED (with fuzzy search): {missed_entities_fuzzy}\")\n",
    "\n",
    "\n",
    "# --- 3. Save the NEWEST, FUZZIEST, BEST training data ---\n",
    "output_path = \"spacy_train_data_fuzzy.json\"\n",
    "with open(output_path, 'w', encoding='utf-8') as f:\n",
    "    json.dump(TRAIN_DATA, f, indent=4)\n",
    "\n",
    "print(f\"\\nFUZZY MATCHED training data successfully saved to '{output_path}'\")"
   ]
  },
  {
   "cell_type": "markdown",
   "id": "323b8c4d",
   "metadata": {},
   "source": []
  }
 ],
 "metadata": {
  "kernelspec": {
   "display_name": "venv",
   "language": "python",
   "name": "python3"
  },
  "language_info": {
   "codemirror_mode": {
    "name": "ipython",
    "version": 3
   },
   "file_extension": ".py",
   "mimetype": "text/x-python",
   "name": "python",
   "nbconvert_exporter": "python",
   "pygments_lexer": "ipython3",
   "version": "3.13.5"
  }
 },
 "nbformat": 4,
 "nbformat_minor": 5
}
