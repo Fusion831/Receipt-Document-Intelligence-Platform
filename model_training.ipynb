{
 "cells": [
  {
   "cell_type": "markdown",
   "id": "173cda0d",
   "metadata": {},
   "source": [
    "# Phase 1.1: Exploratory Data Analysis (EDA)\n",
    "\n",
    "**Objective:** To understand the structure, content, and quality of the SROIE 2019 dataset. This analysis is the critical first step to inform our data preprocessing and model training strategy.\n",
    "\n",
    "**Dataset:** [SROIE Dataset v2](https://www.kaggle.com/datasets/urbikn/sroie-datasetv2)"
   ]
  },
  {
   "cell_type": "code",
   "execution_count": 3,
   "id": "ab18cf20",
   "metadata": {},
   "outputs": [],
   "source": [
    "\n",
    "import os\n",
    "import json\n",
    "import pandas as pd\n",
    "\n",
    "import matplotlib.pyplot as plt\n",
    "import seaborn as sns\n",
    "\n",
    "BASE_PATH = 'SROIE2019' \n",
    "\n",
    "\n",
    "sns.set_style('whitegrid')\n",
    "plt.rcParams['figure.figsize'] = (14, 7) "
   ]
  },
  {
   "cell_type": "markdown",
   "id": "0de48304",
   "metadata": {},
   "source": [
    "### 1. Intial File and Directory Inspection"
   ]
  },
  {
   "cell_type": "markdown",
   "id": "d22452d6",
   "metadata": {},
   "source": []
  },
  {
   "cell_type": "code",
   "execution_count": 4,
   "id": "e6337fe6",
   "metadata": {},
   "outputs": [
    {
     "name": "stdout",
     "output_type": "stream",
     "text": [
      " Discovered File Counts by Directory -\n",
      "- Folder: 'layoutlm-base-uncased'\n",
      "  - Images (.jpg): 0\n",
      "  - Annotations (.txt): 1\n",
      "- Folder: 'test\\box'\n",
      "  - Images (.jpg): 0\n",
      "  - Annotations (.txt): 347\n",
      "- Folder: 'test\\entities'\n",
      "  - Images (.jpg): 0\n",
      "  - Annotations (.txt): 347\n",
      "- Folder: 'test\\img'\n",
      "  - Images (.jpg): 347\n",
      "  - Annotations (.txt): 0\n",
      "- Folder: 'train\\box'\n",
      "  - Images (.jpg): 0\n",
      "  - Annotations (.txt): 626\n",
      "- Folder: 'train\\entities'\n",
      "  - Images (.jpg): 0\n",
      "  - Annotations (.txt): 626\n",
      "- Folder: 'train\\img'\n",
      "  - Images (.jpg): 626\n",
      "  - Annotations (.txt): 0\n",
      "\n",
      "--- Totals ---\n",
      "Total Images (.jpg): 973\n",
      "Total Annotations (.txt): 1947\n"
     ]
    }
   ],
   "source": [
    "file_counts={}\n",
    "\n",
    "for dirpath, dirnames, filenames in os.walk(BASE_PATH):\n",
    "    \n",
    "    relative_path = os.path.relpath(dirpath, BASE_PATH)\n",
    "    \n",
    "    \n",
    "    jpg_count = len([f for f in filenames if f.lower().endswith('.jpg')])\n",
    "    txt_count = len([f for f in filenames if f.lower().endswith('.txt')])\n",
    "    \n",
    "    \n",
    "    if jpg_count > 0 or txt_count > 0:\n",
    "        file_counts[relative_path] = {'images (.jpg)': jpg_count, 'annotations (.txt)': txt_count}\n",
    "\n",
    "\n",
    "print(\" Discovered File Counts by Directory -\")\n",
    "for path, counts in file_counts.items():\n",
    "    print(f\"- Folder: '{path}'\")\n",
    "    print(f\"  - Images (.jpg): {counts['images (.jpg)']}\")\n",
    "    print(f\"  - Annotations (.txt): {counts['annotations (.txt)']}\")\n",
    "\n",
    "\n",
    "\n",
    "total_images = sum(d.get('images (.jpg)', 0) for d in file_counts.values())\n",
    "total_annotations = sum(d.get('annotations (.txt)', 0) for d in file_counts.values())\n",
    "print(\"\\n--- Totals ---\")\n",
    "print(f\"Total Images (.jpg): {total_images}\")\n",
    "print(f\"Total Annotations (.txt): {total_annotations}\")"
   ]
  },
  {
   "cell_type": "markdown",
   "id": "9042b99b",
   "metadata": {},
   "source": [
    "#### Findings:\n",
    "* The dataset is organized into `train` and `test` subdirectories.\n",
    "* The training data (which we will use for our model) contains `[number]` images and `[number]` annotation files.\n",
    "* This confirms we have the necessary data to proceed. The annotations appear to be in `.txt` format(and not in `.json`)."
   ]
  },
  {
   "cell_type": "markdown",
   "id": "029556a3",
   "metadata": {},
   "source": [
    "### 2. Annotation File Structure\n",
    "\n",
    "Before we can process all annotations, we must understand the structure of a single file. We'll load one `.txt` file from the training set and examine its contents."
   ]
  },
  {
   "cell_type": "code",
   "execution_count": 6,
   "id": "da26d749",
   "metadata": {},
   "outputs": [
    {
     "name": "stdout",
     "output_type": "stream",
     "text": [
      "- Inspecting Annotation File: X00016469612.txt \n",
      "\n",
      "File Content:\n",
      "{\n",
      "    \"company\": \"BOOK TA .K (TAMAN DAYA) SDN BHD\",\n",
      "    \"date\": \"25/12/2018\",\n",
      "    \"address\": \"NO.53 55,57 & 59, JALAN SAGU 18, TAMAN DAYA, 81100 JOHOR BAHRU, JOHOR.\",\n",
      "    \"total\": \"9.00\"\n",
      "}\n"
     ]
    }
   ],
   "source": [
    "annotations_dir = os.path.join(BASE_PATH, 'train', 'entities')\n",
    "try:\n",
    "    first_annotation_file = next(f for f in os.listdir(annotations_dir) if f.lower().endswith('.txt'))\n",
    "    annotation_path = os.path.join(annotations_dir, first_annotation_file)\n",
    "\n",
    "    print(f\"- Inspecting Annotation File: {first_annotation_file} \\n\")\n",
    "\n",
    "    with open(annotation_path, 'r', encoding='utf-8') as f:\n",
    "        content = f.read()\n",
    "    \n",
    "    print(\"File Content:\")\n",
    "    print(content)\n",
    "\n",
    "except (StopIteration, FileNotFoundError):\n",
    "    print(f\"Error: Could not find any .txt files in the directory '{annotations_dir}'.\")\n",
    "    print(\"Please check the path\")"
   ]
  },
  {
   "cell_type": "markdown",
   "id": "d3b51aa6",
   "metadata": {},
   "source": [
    "### 3. Parsing and Aggregating All Training Annotations\n",
    "\n",
    "Now for the core data preparation step of our EDA. We will programmatically loop through every annotation file in the `train/entities` directory. For each file, we will:\n",
    "1.  Open and parse the JSON content.\n",
    "2.  Iterate through the key-value pairs (label and text).\n",
    "3.  Append each entity as a new record to a master list.\n",
    "4.  Convert this list into a Pandas DataFrame for structured analysis."
   ]
  },
  {
   "cell_type": "code",
   "execution_count": 7,
   "id": "6c337436",
   "metadata": {},
   "outputs": [
    {
     "name": "stdout",
     "output_type": "stream",
     "text": [
      "Shape of Final Data Frame:  2503 rows and 3 columns.\n"
     ]
    }
   ],
   "source": [
    "\n",
    "ANNOTATIONS_DIR = os.path.join(BASE_PATH, 'train', 'entities')\n",
    "\n",
    "\n",
    "if not os.path.isdir(ANNOTATIONS_DIR):\n",
    "    print(f\"ERROR: The directory '{ANNOTATIONS_DIR}' does not exist. Please check your paths.\")\n",
    "else:\n",
    "    parsed_data = []\n",
    "    \n",
    "    for filename in os.listdir(ANNOTATIONS_DIR):\n",
    "        if filename.lower().endswith('.txt'):\n",
    "            file_path = os.path.join(ANNOTATIONS_DIR, filename)\n",
    "            \n",
    "            try:\n",
    "                with open(file_path, 'r', encoding='utf-8') as f:\n",
    "                    \n",
    "                    data = json.load(f)\n",
    "                    \n",
    "                    \n",
    "                    for label, text in data.items():\n",
    "                        \n",
    "                        parsed_data.append({\n",
    "                            'filename': filename,\n",
    "                            'label': label.upper(), # Convention: Use uppercase for labels\n",
    "                            'text': text\n",
    "                        })\n",
    "            except json.JSONDecodeError:\n",
    "                print(f\"Warning: Could not parse {filename}. It may be empty or corrupted. Skipping.\")\n",
    "            except Exception as e:\n",
    "                print(f\"An error occurred with file {filename}: {e}\")\n",
    "\n",
    "\n",
    "    df = pd.DataFrame(parsed_data)\n",
    "\n",
    "    print(f\"Shape of Final Data Frame:  {df.shape[0]} rows and {df.shape[1]} columns.\")"
   ]
  },
  {
   "cell_type": "markdown",
   "id": "1b31f80c",
   "metadata": {},
   "source": [
    "### 4. Initial DataFrame Inspection\n",
    "\n",
    "With our data aggregated, let's perform a quick health check. We'll use `.info()` to check for data types and null values, and `.head()` to inspect a few sample rows. This ensures our parsing logic was correct."
   ]
  },
  {
   "cell_type": "code",
   "execution_count": 8,
   "id": "45f4924c",
   "metadata": {},
   "outputs": [
    {
     "name": "stdout",
     "output_type": "stream",
     "text": [
      "DataFrame Info:\n",
      "<class 'pandas.core.frame.DataFrame'>\n",
      "RangeIndex: 2503 entries, 0 to 2502\n",
      "Data columns (total 3 columns):\n",
      " #   Column    Non-Null Count  Dtype \n",
      "---  ------    --------------  ----- \n",
      " 0   filename  2503 non-null   object\n",
      " 1   label     2503 non-null   object\n",
      " 2   text      2503 non-null   object\n",
      "dtypes: object(3)\n",
      "memory usage: 58.8+ KB\n",
      "None\n",
      "\n",
      " First 5 Rows of DataFrame:\n",
      "           filename    label  \\\n",
      "0  X00016469612.txt  COMPANY   \n",
      "1  X00016469612.txt     DATE   \n",
      "2  X00016469612.txt  ADDRESS   \n",
      "3  X00016469612.txt    TOTAL   \n",
      "4  X00016469619.txt  COMPANY   \n",
      "\n",
      "                                                text  \n",
      "0                    BOOK TA .K (TAMAN DAYA) SDN BHD  \n",
      "1                                         25/12/2018  \n",
      "2  NO.53 55,57 & 59, JALAN SAGU 18, TAMAN DAYA, 8...  \n",
      "3                                               9.00  \n",
      "4                             INDAH GIFT & HOME DECO  \n"
     ]
    }
   ],
   "source": [
    "print(\"DataFrame Info:\")\n",
    "print(df.info())\n",
    "\n",
    "print(\"\\n First 5 Rows of DataFrame:\")\n",
    "print(df.head())"
   ]
  },
  {
   "cell_type": "markdown",
   "id": "51ced47b",
   "metadata": {},
   "source": [
    "### Entity Label and Analysis\n",
    "\n",
    "Now we are going to check the label distribution in the dataset, to see if well any label is more dominant then others, leading to an imabalanced dataset because an Imbalanced Dataset can affect the model's performance on rare categories."
   ]
  },
  {
   "cell_type": "code",
   "execution_count": null,
   "id": "71ddf5be",
   "metadata": {},
   "outputs": [
    {
     "name": "stdout",
     "output_type": "stream",
     "text": [
      "Entity Label Counts:\n",
      "label\n",
      "COMPANY    626\n",
      "DATE       626\n",
      "TOTAL      626\n",
      "ADDRESS    625\n",
      "Name: count, dtype: int64\n"
     ]
    },
    {
     "name": "stderr",
     "output_type": "stream",
     "text": [
      "C:\\Users\\daksh\\AppData\\Local\\Temp\\ipykernel_16748\\3666053560.py:7: FutureWarning: \n",
      "\n",
      "Passing `palette` without assigning `hue` is deprecated and will be removed in v0.14.0. Assign the `x` variable to `hue` and set `legend=False` for the same effect.\n",
      "\n",
      "  sns.countplot(data=df, x='label', order=label_counts.index, palette='viridis')\n"
     ]
    },
    {
     "data": {
      "image/png": "[encoded data removed]",
      "text/plain": [
       "<Figure size 1400x700 with 1 Axes>"
      ]
     },
     "metadata": {},
     "output_type": "display_data"
    }
   ],
   "source": [
    "print(\"Entity Label Counts:\")\n",
    "label_counts = df['label'].value_counts()\n",
    "print(label_counts)\n",
    "\n",
    "\n",
    "\n",
    "sns.countplot(data=df, x='label', order=label_counts.index)\n",
    "\n",
    "plt.title('Entity Label Distribution')\n",
    "plt.xlabel('Entity Label',fontsize=12)\n",
    "plt.ylabel('Frequency (Count)',fontsize=12)\n",
    "plt.xticks(rotation=0)\n",
    "\n",
    "plt.show()"
   ]
  },
  {
   "cell_type": "code",
   "execution_count": null,
   "id": "5cf7ccce",
   "metadata": {},
   "outputs": [],
   "source": []
  }
 ],
 "metadata": {
  "kernelspec": {
   "display_name": "venv",
   "language": "python",
   "name": "python3"
  },
  "language_info": {
   "codemirror_mode": {
    "name": "ipython",
    "version": 3
   },
   "file_extension": ".py",
   "mimetype": "text/x-python",
   "name": "python",
   "nbconvert_exporter": "python",
   "pygments_lexer": "ipython3",
   "version": "3.13.5"
  }
 },
 "nbformat": 4,
 "nbformat_minor": 5
}
